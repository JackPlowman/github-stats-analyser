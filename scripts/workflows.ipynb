{
 "cells": [
  {
   "cell_type": "code",
   "execution_count": null,
   "metadata": {},
   "outputs": [],
   "source": [
    "from diagrams import Diagram\n",
    "from diagrams.c4 import Person, System\n",
    "\n",
    "with Diagram(\"Architecture Diagram\", direction=\"TB\"):\n",
    "    customer = Person(name=\"Web user\", description=\"A user who interacts with the web application\")\n",
    "    github_pages = System(\n",
    "        name=\"GitHub Pages\",\n",
    "        description=\"A GitHub Pages site\",\n",
    "    )\n",
    "    customer >> github_pages\n",
    "  "
   ]
  }
 ],
 "metadata": {
  "kernelspec": {
   "display_name": "non-package-mode-dJ7Xofod-py3.13",
   "language": "python",
   "name": "python3"
  },
  "language_info": {
   "codemirror_mode": {
    "name": "ipython",
    "version": 3
   },
   "file_extension": ".py",
   "mimetype": "text/x-python",
   "name": "python",
   "nbconvert_exporter": "python",
   "pygments_lexer": "ipython3",
   "version": "3.13.0"
  }
 },
 "nbformat": 4,
 "nbformat_minor": 2
}
